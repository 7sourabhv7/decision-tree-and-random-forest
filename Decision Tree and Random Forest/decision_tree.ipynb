{
 "cells": [
  {
   "cell_type": "markdown",
   "metadata": {},
   "source": [
    "The goal of this notebook is to code a decision tree classifier that can be used with the following API."
   ]
  },
  {
   "cell_type": "markdown",
   "metadata": {},
   "source": [
    "```Python\n",
    "df = pd.read_csv(\"data.csv\")\n",
    "```\n",
    "\n",
    "\n",
    "```\n",
    "train_df, test_df = train_test_split(df, test_size=0.2)\n",
    "tree = decision_tree_algorithm(train_df)\n",
    "accuracy = calculate_accuracy(test_df, tree)\n",
    "```"
   ]
  },
  {
   "cell_type": "code",
   "execution_count": 18,
   "metadata": {},
   "outputs": [],
   "source": [
    "# markdown"
   ]
  },
  {
   "cell_type": "markdown",
   "metadata": {},
   "source": [
    "# Import Statements"
   ]
  },
  {
   "cell_type": "code",
   "execution_count": 3,
   "metadata": {},
   "outputs": [],
   "source": [
    "import numpy as np\n",
    "import pandas as pd\n",
    "\n",
    "import matplotlib.pyplot as plt\n",
    "import seaborn as sns\n",
    "%matplotlib inline\n",
    "\n",
    "import random\n",
    "from pprint import pprint"
   ]
  },
  {
   "cell_type": "markdown",
   "metadata": {},
   "source": [
    "# Data preparation\n",
    "### Amazon cell phone"
   ]
  },
  {
   "cell_type": "code",
   "execution_count": 4,
   "metadata": {},
   "outputs": [],
   "source": [
    "df = pd.read_csv(r\"C:\\Users\\Himanshu\\Desktop\\My Things\\Book3.csv\")\n",
    "df = df.rename(columns={\"classify\": \"label\"})\n"
   ]
  },
  {
   "cell_type": "code",
   "execution_count": 5,
   "metadata": {},
   "outputs": [
    {
     "data": {
      "text/html": [
       "<div>\n",
       "<style scoped>\n",
       "    .dataframe tbody tr th:only-of-type {\n",
       "        vertical-align: middle;\n",
       "    }\n",
       "\n",
       "    .dataframe tbody tr th {\n",
       "        vertical-align: top;\n",
       "    }\n",
       "\n",
       "    .dataframe thead th {\n",
       "        text-align: right;\n",
       "    }\n",
       "</style>\n",
       "<table border=\"1\" class=\"dataframe\">\n",
       "  <thead>\n",
       "    <tr style=\"text-align: right;\">\n",
       "      <th></th>\n",
       "      <th>response</th>\n",
       "      <th>reply</th>\n",
       "      <th>profile_useful</th>\n",
       "      <th>thickness</th>\n",
       "      <th>template</th>\n",
       "      <th>star_rating</th>\n",
       "      <th>verified</th>\n",
       "      <th>helpful_votes</th>\n",
       "      <th>label</th>\n",
       "    </tr>\n",
       "  </thead>\n",
       "  <tbody>\n",
       "    <tr>\n",
       "      <th>0</th>\n",
       "      <td>Y</td>\n",
       "      <td>Y</td>\n",
       "      <td>&gt;=20%</td>\n",
       "      <td>thick</td>\n",
       "      <td>N</td>\n",
       "      <td>&gt;=2</td>\n",
       "      <td>False</td>\n",
       "      <td>&gt;=50</td>\n",
       "      <td>nf</td>\n",
       "    </tr>\n",
       "    <tr>\n",
       "      <th>1</th>\n",
       "      <td>Y</td>\n",
       "      <td>Y</td>\n",
       "      <td>&gt;=20%</td>\n",
       "      <td>thick</td>\n",
       "      <td>N</td>\n",
       "      <td>&lt;2</td>\n",
       "      <td>True</td>\n",
       "      <td>&gt;=50</td>\n",
       "      <td>nf</td>\n",
       "    </tr>\n",
       "    <tr>\n",
       "      <th>2</th>\n",
       "      <td>Y</td>\n",
       "      <td>Y</td>\n",
       "      <td>&gt;=20%</td>\n",
       "      <td>thick</td>\n",
       "      <td>Y</td>\n",
       "      <td>&gt;=2</td>\n",
       "      <td>False</td>\n",
       "      <td>&gt;=50</td>\n",
       "      <td>nf</td>\n",
       "    </tr>\n",
       "    <tr>\n",
       "      <th>3</th>\n",
       "      <td>Y</td>\n",
       "      <td>Y</td>\n",
       "      <td>&gt;=20%</td>\n",
       "      <td>thick</td>\n",
       "      <td>Y</td>\n",
       "      <td>&lt;2</td>\n",
       "      <td>True</td>\n",
       "      <td>&lt;50</td>\n",
       "      <td>nf</td>\n",
       "    </tr>\n",
       "    <tr>\n",
       "      <th>4</th>\n",
       "      <td>Y</td>\n",
       "      <td>N</td>\n",
       "      <td>&gt;=20%</td>\n",
       "      <td>thick</td>\n",
       "      <td>N</td>\n",
       "      <td>&gt;=2</td>\n",
       "      <td>True</td>\n",
       "      <td>&lt;50</td>\n",
       "      <td>nf</td>\n",
       "    </tr>\n",
       "  </tbody>\n",
       "</table>\n",
       "</div>"
      ],
      "text/plain": [
       "  response reply profile_useful thickness template star_rating  verified  \\\n",
       "0        Y     Y          >=20%     thick        N         >=2     False   \n",
       "1        Y     Y          >=20%     thick        N          <2      True   \n",
       "2        Y     Y          >=20%     thick        Y         >=2     False   \n",
       "3        Y     Y          >=20%     thick        Y          <2      True   \n",
       "4        Y     N          >=20%     thick        N         >=2      True   \n",
       "\n",
       "  helpful_votes label  \n",
       "0          >=50    nf  \n",
       "1          >=50    nf  \n",
       "2          >=50    nf  \n",
       "3           <50    nf  \n",
       "4           <50    nf  "
      ]
     },
     "execution_count": 5,
     "metadata": {},
     "output_type": "execute_result"
    }
   ],
   "source": [
    "df.head()"
   ]
  },
  {
   "cell_type": "code",
   "execution_count": 6,
   "metadata": {},
   "outputs": [
    {
     "data": {
      "text/plain": [
       "<bound method NDFrame.head of    response reply profile_useful thickness template star_rating  verified  \\\n",
       "0         Y     Y          >=20%     thick        N         >=2     False   \n",
       "1         Y     Y          >=20%     thick        N          <2      True   \n",
       "2         Y     Y          >=20%     thick        Y         >=2     False   \n",
       "3         Y     Y          >=20%     thick        Y          <2      True   \n",
       "4         Y     N          >=20%     thick        N         >=2      True   \n",
       "5         Y     N          >=20%     thick        N          <2     False   \n",
       "6         Y     N          >=20%     thick        Y         >=2     False   \n",
       "7         Y     N          >=20%     thick        Y          <2      True   \n",
       "8         N     N          >=20%     thick        N         >=2     False   \n",
       "9         N     N          >=20%     thick        N          <2      True   \n",
       "10        N     N          >=20%     thick        Y         >=2     False   \n",
       "11        N     N          >=20%     thick        Y          <2      True   \n",
       "12        Y     N          >=20%     thick        N         >=2     False   \n",
       "13        N     N           <20%     thick        N          <2     False   \n",
       "14        N     N           <20%      thin        Y          <2     False   \n",
       "15        N     N           <20%      thin        Y         >=2      True   \n",
       "16        N     N           <20%      thin        N          <2      True   \n",
       "17        N     N           <20%      thin        N         >=2      True   \n",
       "18        Y     Y           <20%      thin        N         >=2     False   \n",
       "19        Y     Y           <20%      thin        N          <2     False   \n",
       "20        Y     Y           <20%      thin        Y         >=2      True   \n",
       "21        Y     Y           <20%      thin        Y          <2     False   \n",
       "22        Y     N           <20%      thin        Y          <2      True   \n",
       "23        Y     N           <20%      thin        Y         >=2      True   \n",
       "24        Y     N           <20%      thin        N          <2     False   \n",
       "25        Y     N           <20%      thin        N         >=2      True   \n",
       "26        N     N           <20%      thin        Y          <2      True   \n",
       "27        N     N           <20%      thin        Y          <2     False   \n",
       "28        N     N          >=20%      thin        N         >=2     False   \n",
       "29        Y     Y           <20%      thin        N         >=2      True   \n",
       "30        Y     Y           <20%      thin        Y         >=2      True   \n",
       "31        Y     Y          >=20%      thin        N         >=2      True   \n",
       "32        Y     N          >=20%      thin        Y          <2     False   \n",
       "33        N    N            <20%      thin        N          >2      True   \n",
       "34        N     N           <20%     thick        N          >2     False   \n",
       "35        N     N          >=20%      thin        N          <2      True   \n",
       "36        Y     N           <20%     thick        N          <2     False   \n",
       "37        Y    N            <20%     thick        Y          <2     False   \n",
       "38       Y      N           <20%      thin        Y          <2      True   \n",
       "39        Y     N          >=20%      thin        N          >2      True   \n",
       "\n",
       "   helpful_votes label  \n",
       "0           >=50    nf  \n",
       "1           >=50    nf  \n",
       "2           >=50    nf  \n",
       "3            <50    nf  \n",
       "4            <50    nf  \n",
       "5           >=50    nf  \n",
       "6            <50    nf  \n",
       "7           >=50    nf  \n",
       "8           >=50    nf  \n",
       "9           >=50    nf  \n",
       "10          >=50    nf  \n",
       "11           <50    nf  \n",
       "12          >=50     f  \n",
       "13           <50    nf  \n",
       "14           <50     f  \n",
       "15          >=50     f  \n",
       "16           <50     f  \n",
       "17           <50     f  \n",
       "18          >=50    nf  \n",
       "19           <50    nf  \n",
       "20          >=50    nf  \n",
       "21          >=50    nf  \n",
       "22           <50     f  \n",
       "23           <50     f  \n",
       "24          >=50     f  \n",
       "25          >=50     f  \n",
       "26          >=50     f  \n",
       "27          >=50     f  \n",
       "28           <50     f  \n",
       "29          >=50    nf  \n",
       "30           <50    nf  \n",
       "31          >=50    nf  \n",
       "32           <50     f  \n",
       "33           <50     f  \n",
       "34           <50     f  \n",
       "35           <50     f  \n",
       "36          >=50     f  \n",
       "37           <50     f  \n",
       "38          >=50     f  \n",
       "39           <50     f  >"
      ]
     },
     "execution_count": 6,
     "metadata": {},
     "output_type": "execute_result"
    }
   ],
   "source": [
    "df.head"
   ]
  },
  {
   "cell_type": "code",
   "execution_count": 7,
   "metadata": {},
   "outputs": [
    {
     "name": "stdout",
     "output_type": "stream",
     "text": [
      "<class 'pandas.core.frame.DataFrame'>\n",
      "RangeIndex: 40 entries, 0 to 39\n",
      "Data columns (total 9 columns):\n",
      "response          40 non-null object\n",
      "reply             40 non-null object\n",
      "profile_useful    40 non-null object\n",
      "thickness         40 non-null object\n",
      "template          40 non-null object\n",
      "star_rating       40 non-null object\n",
      "verified          40 non-null bool\n",
      "helpful_votes     40 non-null object\n",
      "label             40 non-null object\n",
      "dtypes: bool(1), object(8)\n",
      "memory usage: 1.4+ KB\n"
     ]
    }
   ],
   "source": [
    "df.info()"
   ]
  },
  {
   "cell_type": "markdown",
   "metadata": {},
   "source": [
    "# Train-Test-Split"
   ]
  },
  {
   "cell_type": "code",
   "execution_count": 8,
   "metadata": {},
   "outputs": [],
   "source": [
    "def train_test_split(df, test_size):\n",
    "    \n",
    "    if isinstance(test_size, float):\n",
    "        test_size = round(test_size * len(df))\n",
    "\n",
    "    indices = df.index.tolist()\n",
    "    test_indices = random.sample(population=indices, k=test_size)\n",
    "\n",
    "    test_df = df.loc[test_indices]\n",
    "    train_df = df.drop(test_indices)\n",
    "    \n",
    "    return train_df, test_df"
   ]
  },
  {
   "cell_type": "code",
   "execution_count": 9,
   "metadata": {},
   "outputs": [],
   "source": [
    "indices = df.index.tolist()           #for total number of tuple"
   ]
  },
  {
   "cell_type": "code",
   "execution_count": 10,
   "metadata": {},
   "outputs": [],
   "source": [
    "test_size = 20"
   ]
  },
  {
   "cell_type": "code",
   "execution_count": 11,
   "metadata": {},
   "outputs": [],
   "source": [
    "test_indices = random.sample(population=indices, k = test_size)"
   ]
  },
  {
   "cell_type": "code",
   "execution_count": 12,
   "metadata": {},
   "outputs": [],
   "source": [
    "test_df = df.loc[test_indices]"
   ]
  },
  {
   "cell_type": "code",
   "execution_count": 13,
   "metadata": {},
   "outputs": [],
   "source": [
    "train_df = df.drop(test_indices)"
   ]
  },
  {
   "cell_type": "code",
   "execution_count": 14,
   "metadata": {},
   "outputs": [],
   "source": [
    "random.seed(0)\n",
    "train_df, test_df = train_test_split(df, test_size=15)"
   ]
  },
  {
   "cell_type": "code",
   "execution_count": 15,
   "metadata": {},
   "outputs": [
    {
     "data": {
      "text/html": [
       "<div>\n",
       "<style scoped>\n",
       "    .dataframe tbody tr th:only-of-type {\n",
       "        vertical-align: middle;\n",
       "    }\n",
       "\n",
       "    .dataframe tbody tr th {\n",
       "        vertical-align: top;\n",
       "    }\n",
       "\n",
       "    .dataframe thead th {\n",
       "        text-align: right;\n",
       "    }\n",
       "</style>\n",
       "<table border=\"1\" class=\"dataframe\">\n",
       "  <thead>\n",
       "    <tr style=\"text-align: right;\">\n",
       "      <th></th>\n",
       "      <th>response</th>\n",
       "      <th>reply</th>\n",
       "      <th>profile_useful</th>\n",
       "      <th>thickness</th>\n",
       "      <th>template</th>\n",
       "      <th>star_rating</th>\n",
       "      <th>verified</th>\n",
       "      <th>helpful_votes</th>\n",
       "      <th>label</th>\n",
       "    </tr>\n",
       "  </thead>\n",
       "  <tbody>\n",
       "    <tr>\n",
       "      <th>24</th>\n",
       "      <td>Y</td>\n",
       "      <td>N</td>\n",
       "      <td>&lt;20%</td>\n",
       "      <td>thin</td>\n",
       "      <td>N</td>\n",
       "      <td>&lt;2</td>\n",
       "      <td>False</td>\n",
       "      <td>&gt;=50</td>\n",
       "      <td>f</td>\n",
       "    </tr>\n",
       "    <tr>\n",
       "      <th>26</th>\n",
       "      <td>N</td>\n",
       "      <td>N</td>\n",
       "      <td>&lt;20%</td>\n",
       "      <td>thin</td>\n",
       "      <td>Y</td>\n",
       "      <td>&lt;2</td>\n",
       "      <td>True</td>\n",
       "      <td>&gt;=50</td>\n",
       "      <td>f</td>\n",
       "    </tr>\n",
       "    <tr>\n",
       "      <th>2</th>\n",
       "      <td>Y</td>\n",
       "      <td>Y</td>\n",
       "      <td>&gt;=20%</td>\n",
       "      <td>thick</td>\n",
       "      <td>Y</td>\n",
       "      <td>&gt;=2</td>\n",
       "      <td>False</td>\n",
       "      <td>&gt;=50</td>\n",
       "      <td>nf</td>\n",
       "    </tr>\n",
       "    <tr>\n",
       "      <th>16</th>\n",
       "      <td>N</td>\n",
       "      <td>N</td>\n",
       "      <td>&lt;20%</td>\n",
       "      <td>thin</td>\n",
       "      <td>N</td>\n",
       "      <td>&lt;2</td>\n",
       "      <td>True</td>\n",
       "      <td>&lt;50</td>\n",
       "      <td>f</td>\n",
       "    </tr>\n",
       "    <tr>\n",
       "      <th>32</th>\n",
       "      <td>Y</td>\n",
       "      <td>N</td>\n",
       "      <td>&gt;=20%</td>\n",
       "      <td>thin</td>\n",
       "      <td>Y</td>\n",
       "      <td>&lt;2</td>\n",
       "      <td>False</td>\n",
       "      <td>&lt;50</td>\n",
       "      <td>f</td>\n",
       "    </tr>\n",
       "  </tbody>\n",
       "</table>\n",
       "</div>"
      ],
      "text/plain": [
       "   response reply profile_useful thickness template star_rating  verified  \\\n",
       "24        Y     N           <20%      thin        N          <2     False   \n",
       "26        N     N           <20%      thin        Y          <2      True   \n",
       "2         Y     Y          >=20%     thick        Y         >=2     False   \n",
       "16        N     N           <20%      thin        N          <2      True   \n",
       "32        Y     N          >=20%      thin        Y          <2     False   \n",
       "\n",
       "   helpful_votes label  \n",
       "24          >=50     f  \n",
       "26          >=50     f  \n",
       "2           >=50    nf  \n",
       "16           <50     f  \n",
       "32           <50     f  "
      ]
     },
     "execution_count": 15,
     "metadata": {},
     "output_type": "execute_result"
    }
   ],
   "source": [
    "test_df.head()"
   ]
  },
  {
   "cell_type": "code",
   "execution_count": 16,
   "metadata": {},
   "outputs": [
    {
     "data": {
      "text/plain": [
       "15"
      ]
     },
     "execution_count": 16,
     "metadata": {},
     "output_type": "execute_result"
    }
   ],
   "source": [
    "len(test_df)"
   ]
  },
  {
   "cell_type": "code",
   "execution_count": 17,
   "metadata": {},
   "outputs": [
    {
     "data": {
      "text/html": [
       "<div>\n",
       "<style scoped>\n",
       "    .dataframe tbody tr th:only-of-type {\n",
       "        vertical-align: middle;\n",
       "    }\n",
       "\n",
       "    .dataframe tbody tr th {\n",
       "        vertical-align: top;\n",
       "    }\n",
       "\n",
       "    .dataframe thead th {\n",
       "        text-align: right;\n",
       "    }\n",
       "</style>\n",
       "<table border=\"1\" class=\"dataframe\">\n",
       "  <thead>\n",
       "    <tr style=\"text-align: right;\">\n",
       "      <th></th>\n",
       "      <th>response</th>\n",
       "      <th>reply</th>\n",
       "      <th>profile_useful</th>\n",
       "      <th>thickness</th>\n",
       "      <th>template</th>\n",
       "      <th>star_rating</th>\n",
       "      <th>verified</th>\n",
       "      <th>helpful_votes</th>\n",
       "      <th>label</th>\n",
       "    </tr>\n",
       "  </thead>\n",
       "  <tbody>\n",
       "    <tr>\n",
       "      <th>24</th>\n",
       "      <td>Y</td>\n",
       "      <td>N</td>\n",
       "      <td>&lt;20%</td>\n",
       "      <td>thin</td>\n",
       "      <td>N</td>\n",
       "      <td>&lt;2</td>\n",
       "      <td>False</td>\n",
       "      <td>&gt;=50</td>\n",
       "      <td>f</td>\n",
       "    </tr>\n",
       "    <tr>\n",
       "      <th>26</th>\n",
       "      <td>N</td>\n",
       "      <td>N</td>\n",
       "      <td>&lt;20%</td>\n",
       "      <td>thin</td>\n",
       "      <td>Y</td>\n",
       "      <td>&lt;2</td>\n",
       "      <td>True</td>\n",
       "      <td>&gt;=50</td>\n",
       "      <td>f</td>\n",
       "    </tr>\n",
       "    <tr>\n",
       "      <th>2</th>\n",
       "      <td>Y</td>\n",
       "      <td>Y</td>\n",
       "      <td>&gt;=20%</td>\n",
       "      <td>thick</td>\n",
       "      <td>Y</td>\n",
       "      <td>&gt;=2</td>\n",
       "      <td>False</td>\n",
       "      <td>&gt;=50</td>\n",
       "      <td>nf</td>\n",
       "    </tr>\n",
       "    <tr>\n",
       "      <th>16</th>\n",
       "      <td>N</td>\n",
       "      <td>N</td>\n",
       "      <td>&lt;20%</td>\n",
       "      <td>thin</td>\n",
       "      <td>N</td>\n",
       "      <td>&lt;2</td>\n",
       "      <td>True</td>\n",
       "      <td>&lt;50</td>\n",
       "      <td>f</td>\n",
       "    </tr>\n",
       "    <tr>\n",
       "      <th>32</th>\n",
       "      <td>Y</td>\n",
       "      <td>N</td>\n",
       "      <td>&gt;=20%</td>\n",
       "      <td>thin</td>\n",
       "      <td>Y</td>\n",
       "      <td>&lt;2</td>\n",
       "      <td>False</td>\n",
       "      <td>&lt;50</td>\n",
       "      <td>f</td>\n",
       "    </tr>\n",
       "  </tbody>\n",
       "</table>\n",
       "</div>"
      ],
      "text/plain": [
       "   response reply profile_useful thickness template star_rating  verified  \\\n",
       "24        Y     N           <20%      thin        N          <2     False   \n",
       "26        N     N           <20%      thin        Y          <2      True   \n",
       "2         Y     Y          >=20%     thick        Y         >=2     False   \n",
       "16        N     N           <20%      thin        N          <2      True   \n",
       "32        Y     N          >=20%      thin        Y          <2     False   \n",
       "\n",
       "   helpful_votes label  \n",
       "24          >=50     f  \n",
       "26          >=50     f  \n",
       "2           >=50    nf  \n",
       "16           <50     f  \n",
       "32           <50     f  "
      ]
     },
     "execution_count": 17,
     "metadata": {},
     "output_type": "execute_result"
    }
   ],
   "source": [
    "test_df.head()"
   ]
  },
  {
   "cell_type": "code",
   "execution_count": 18,
   "metadata": {},
   "outputs": [
    {
     "data": {
      "text/html": [
       "<div>\n",
       "<style scoped>\n",
       "    .dataframe tbody tr th:only-of-type {\n",
       "        vertical-align: middle;\n",
       "    }\n",
       "\n",
       "    .dataframe tbody tr th {\n",
       "        vertical-align: top;\n",
       "    }\n",
       "\n",
       "    .dataframe thead th {\n",
       "        text-align: right;\n",
       "    }\n",
       "</style>\n",
       "<table border=\"1\" class=\"dataframe\">\n",
       "  <thead>\n",
       "    <tr style=\"text-align: right;\">\n",
       "      <th></th>\n",
       "      <th>response</th>\n",
       "      <th>reply</th>\n",
       "      <th>profile_useful</th>\n",
       "      <th>thickness</th>\n",
       "      <th>template</th>\n",
       "      <th>star_rating</th>\n",
       "      <th>verified</th>\n",
       "      <th>helpful_votes</th>\n",
       "      <th>label</th>\n",
       "    </tr>\n",
       "  </thead>\n",
       "  <tbody>\n",
       "    <tr>\n",
       "      <th>24</th>\n",
       "      <td>Y</td>\n",
       "      <td>N</td>\n",
       "      <td>&lt;20%</td>\n",
       "      <td>thin</td>\n",
       "      <td>N</td>\n",
       "      <td>&lt;2</td>\n",
       "      <td>False</td>\n",
       "      <td>&gt;=50</td>\n",
       "      <td>f</td>\n",
       "    </tr>\n",
       "    <tr>\n",
       "      <th>26</th>\n",
       "      <td>N</td>\n",
       "      <td>N</td>\n",
       "      <td>&lt;20%</td>\n",
       "      <td>thin</td>\n",
       "      <td>Y</td>\n",
       "      <td>&lt;2</td>\n",
       "      <td>True</td>\n",
       "      <td>&gt;=50</td>\n",
       "      <td>f</td>\n",
       "    </tr>\n",
       "    <tr>\n",
       "      <th>2</th>\n",
       "      <td>Y</td>\n",
       "      <td>Y</td>\n",
       "      <td>&gt;=20%</td>\n",
       "      <td>thick</td>\n",
       "      <td>Y</td>\n",
       "      <td>&gt;=2</td>\n",
       "      <td>False</td>\n",
       "      <td>&gt;=50</td>\n",
       "      <td>nf</td>\n",
       "    </tr>\n",
       "    <tr>\n",
       "      <th>16</th>\n",
       "      <td>N</td>\n",
       "      <td>N</td>\n",
       "      <td>&lt;20%</td>\n",
       "      <td>thin</td>\n",
       "      <td>N</td>\n",
       "      <td>&lt;2</td>\n",
       "      <td>True</td>\n",
       "      <td>&lt;50</td>\n",
       "      <td>f</td>\n",
       "    </tr>\n",
       "    <tr>\n",
       "      <th>32</th>\n",
       "      <td>Y</td>\n",
       "      <td>N</td>\n",
       "      <td>&gt;=20%</td>\n",
       "      <td>thin</td>\n",
       "      <td>Y</td>\n",
       "      <td>&lt;2</td>\n",
       "      <td>False</td>\n",
       "      <td>&lt;50</td>\n",
       "      <td>f</td>\n",
       "    </tr>\n",
       "  </tbody>\n",
       "</table>\n",
       "</div>"
      ],
      "text/plain": [
       "   response reply profile_useful thickness template star_rating  verified  \\\n",
       "24        Y     N           <20%      thin        N          <2     False   \n",
       "26        N     N           <20%      thin        Y          <2      True   \n",
       "2         Y     Y          >=20%     thick        Y         >=2     False   \n",
       "16        N     N           <20%      thin        N          <2      True   \n",
       "32        Y     N          >=20%      thin        Y          <2     False   \n",
       "\n",
       "   helpful_votes label  \n",
       "24          >=50     f  \n",
       "26          >=50     f  \n",
       "2           >=50    nf  \n",
       "16           <50     f  \n",
       "32           <50     f  "
      ]
     },
     "execution_count": 18,
     "metadata": {},
     "output_type": "execute_result"
    }
   ],
   "source": [
    "test_df.head()"
   ]
  },
  {
   "cell_type": "markdown",
   "metadata": {},
   "source": [
    "# Helper Functions"
   ]
  },
  {
   "cell_type": "code",
   "execution_count": 19,
   "metadata": {},
   "outputs": [
    {
     "data": {
      "text/plain": [
       "array([['Y', 'Y', '>=20%', 'thick', 'N', '>=2', False, '>=50', 'nf'],\n",
       "       ['Y', 'Y', '>=20%', 'thick', 'N', '<2', True, '>=50', 'nf'],\n",
       "       ['Y', 'Y', '>=20%', 'thick', 'Y', '<2', True, '<50', 'nf'],\n",
       "       ['Y', 'N', '>=20%', 'thick', 'N', '<2', False, '>=50', 'nf'],\n",
       "       ['Y', 'N', '>=20%', 'thick', 'Y', '<2', True, '>=50', 'nf'],\n",
       "       ['N', 'N', '>=20%', 'thick', 'N', '>=2', False, '>=50', 'nf'],\n",
       "       ['N', 'N', '>=20%', 'thick', 'N', '<2', True, '>=50', 'nf'],\n",
       "       ['N', 'N', '>=20%', 'thick', 'Y', '>=2', False, '>=50', 'nf'],\n",
       "       ['Y', 'N', '>=20%', 'thick', 'N', '>=2', False, '>=50', 'f'],\n",
       "       ['N', 'N', '<20%', 'thick', 'N', '<2', False, '<50', 'nf'],\n",
       "       ['N', 'N', '<20%', 'thin', 'Y', '<2', False, '<50', 'f'],\n",
       "       ['N', 'N', '<20%', 'thin', 'Y', '>=2', True, '>=50', 'f'],\n",
       "       ['N', 'N', '<20%', 'thin', 'N', '>=2', True, '<50', 'f'],\n",
       "       ['Y', 'Y', '<20%', 'thin', 'Y', '>=2', True, '>=50', 'nf'],\n",
       "       ['Y', 'Y', '<20%', 'thin', 'Y', '<2', False, '>=50', 'nf'],\n",
       "       ['Y', 'N', '<20%', 'thin', 'Y', '<2', True, '<50', 'f'],\n",
       "       ['Y', 'N', '<20%', 'thin', 'Y', '>=2', True, '<50', 'f'],\n",
       "       ['N', 'N', '<20%', 'thin', 'Y', '<2', False, '>=50', 'f'],\n",
       "       ['Y', 'Y', '<20%', 'thin', 'N', '>=2', True, '>=50', 'nf'],\n",
       "       ['N', 'N ', '<20%', 'thin', 'N', '>2', True, '<50', 'f'],\n",
       "       ['N', 'N', '<20%', 'thick', 'N', '>2', False, '<50', 'f'],\n",
       "       ['N', 'N', '>=20%', 'thin', 'N', '<2', True, '<50', 'f'],\n",
       "       ['Y', 'N ', '<20%', 'thick', 'Y', '<2', False, '<50', 'f'],\n",
       "       ['Y ', 'N', '<20%', 'thin', 'Y', '<2', True, '>=50', 'f'],\n",
       "       ['Y', 'N', '>=20%', 'thin', 'N', '>2', True, '<50', 'f']],\n",
       "      dtype=object)"
      ]
     },
     "execution_count": 19,
     "metadata": {},
     "output_type": "execute_result"
    }
   ],
   "source": [
    "train_df.values"
   ]
  },
  {
   "cell_type": "code",
   "execution_count": 20,
   "metadata": {},
   "outputs": [
    {
     "data": {
      "text/plain": [
       "array([['Y', 'Y', '>=20%', 'thick', 'N', '>=2', False, '>=50', 'nf'],\n",
       "       ['Y', 'Y', '>=20%', 'thick', 'N', '<2', True, '>=50', 'nf'],\n",
       "       ['Y', 'Y', '>=20%', 'thick', 'Y', '<2', True, '<50', 'nf'],\n",
       "       ['Y', 'N', '>=20%', 'thick', 'N', '<2', False, '>=50', 'nf'],\n",
       "       ['Y', 'N', '>=20%', 'thick', 'Y', '<2', True, '>=50', 'nf']],\n",
       "      dtype=object)"
      ]
     },
     "execution_count": 20,
     "metadata": {},
     "output_type": "execute_result"
    }
   ],
   "source": [
    "data = train_df.values\n",
    "data[:5]"
   ]
  },
  {
   "cell_type": "code",
   "execution_count": 21,
   "metadata": {},
   "outputs": [],
   "source": [
    "label_column = data[:,-1]"
   ]
  },
  {
   "cell_type": "code",
   "execution_count": 22,
   "metadata": {},
   "outputs": [
    {
     "data": {
      "text/plain": [
       "2"
      ]
     },
     "execution_count": 22,
     "metadata": {},
     "output_type": "execute_result"
    }
   ],
   "source": [
    "unique_classes = np.unique(label_column)\n",
    "len(unique_classes)"
   ]
  },
  {
   "cell_type": "markdown",
   "metadata": {},
   "source": [
    "### Data pure?"
   ]
  },
  {
   "cell_type": "code",
   "execution_count": 23,
   "metadata": {},
   "outputs": [],
   "source": [
    "def check_purity(data):\n",
    "    \n",
    "    label_column = data[:, -1]\n",
    "    unique_classes = np.unique(label_column)\n",
    "\n",
    "    if len(unique_classes) == 1:\n",
    "        return True\n",
    "    else:\n",
    "        return False"
   ]
  },
  {
   "cell_type": "markdown",
   "metadata": {},
   "source": [
    "### Classify"
   ]
  },
  {
   "cell_type": "code",
   "execution_count": 24,
   "metadata": {},
   "outputs": [],
   "source": [
    "def classify_data(data):\n",
    "    \n",
    "    label_column = data[:, -1]\n",
    "    unique_classes, counts_unique_classes = np.unique(label_column, return_counts=True)\n",
    "\n",
    "    index = counts_unique_classes.argmax()\n",
    "    classification = unique_classes[index]\n",
    "    \n",
    "    return classification"
   ]
  },
  {
   "cell_type": "code",
   "execution_count": 25,
   "metadata": {},
   "outputs": [],
   "source": [
    "label_column = data[:,-1]\n",
    "unique_classes, counts_unique_classes = np.unique(label_column, return_counts=True)"
   ]
  },
  {
   "cell_type": "code",
   "execution_count": 26,
   "metadata": {},
   "outputs": [],
   "source": [
    "index = counts_unique_classes.argmax()"
   ]
  },
  {
   "cell_type": "code",
   "execution_count": 27,
   "metadata": {},
   "outputs": [],
   "source": [
    "classification = unique_classes[index]"
   ]
  },
  {
   "cell_type": "markdown",
   "metadata": {},
   "source": [
    "### Potential splits?"
   ]
  },
  {
   "cell_type": "code",
   "execution_count": 28,
   "metadata": {},
   "outputs": [],
   "source": [
    "def get_potential_splits(data):\n",
    "    \n",
    "    potential_splits = {}\n",
    "    _, n_columns = data.shape\n",
    "    for column_index in range(n_columns - 1):          # excluding the last column which is the label\n",
    "        values = data[:, column_index]\n",
    "        unique_values = np.unique(values)\n",
    "        \n",
    "        potential_splits[column_index] = unique_values\n",
    "    \n",
    "    return potential_splits"
   ]
  },
  {
   "cell_type": "code",
   "execution_count": 29,
   "metadata": {},
   "outputs": [
    {
     "data": {
      "text/plain": [
       "(25, 9)"
      ]
     },
     "execution_count": 29,
     "metadata": {},
     "output_type": "execute_result"
    }
   ],
   "source": [
    "data.shape"
   ]
  },
  {
   "cell_type": "code",
   "execution_count": 30,
   "metadata": {},
   "outputs": [],
   "source": [
    "potential_split = get_potential_splits(train_df.values)"
   ]
  },
  {
   "cell_type": "markdown",
   "metadata": {},
   "source": [
    "### Split Data"
   ]
  },
  {
   "cell_type": "code",
   "execution_count": 31,
   "metadata": {},
   "outputs": [],
   "source": [
    "def split_data(data, split_column, split_value):\n",
    "    \n",
    "    split_column_values = data[:, split_column]\n",
    "\n",
    "    type_of_feature = FEATURE_TYPES[split_column]\n",
    "    if type_of_feature == \"continuous\":\n",
    "        data_below = data[split_column_values <= split_value]\n",
    "        data_above = data[split_column_values >  split_value]\n",
    "    \n",
    "    # feature is categorical   \n",
    "    else:\n",
    "        data_below = data[split_column_values == split_value]\n",
    "        data_above = data[split_column_values != split_value]\n",
    "    \n",
    "    return data_below, data_above"
   ]
  },
  {
   "cell_type": "code",
   "execution_count": 32,
   "metadata": {},
   "outputs": [],
   "source": [
    "split_column = 5\n",
    "split_value = 2"
   ]
  },
  {
   "cell_type": "code",
   "execution_count": 33,
   "metadata": {},
   "outputs": [],
   "source": [
    "split_column_values = data[:, split_column]"
   ]
  },
  {
   "cell_type": "markdown",
   "metadata": {},
   "source": [
    "### Lowest Overall Entropy?"
   ]
  },
  {
   "cell_type": "code",
   "execution_count": 34,
   "metadata": {},
   "outputs": [],
   "source": [
    "def calculate_entropy(data):\n",
    "    \n",
    "    label_column = data[:, -1]\n",
    "    _, counts = np.unique(label_column, return_counts=True)\n",
    "\n",
    "    probabilities = counts / counts.sum()\n",
    "    entropy = sum(probabilities * -np.log2(probabilities))\n",
    "     \n",
    "    return entropy"
   ]
  },
  {
   "cell_type": "code",
   "execution_count": 35,
   "metadata": {},
   "outputs": [],
   "source": [
    "split_column = 5\n",
    "split_value = 2"
   ]
  },
  {
   "cell_type": "code",
   "execution_count": 36,
   "metadata": {},
   "outputs": [],
   "source": [
    "def calculate_overall_entropy(data_below, data_above):\n",
    "    \n",
    "    n = len(data_below) + len(data_above)\n",
    "    p_data_below = len(data_below) / n\n",
    "    p_data_above = len(data_above) / n\n",
    "\n",
    "    overall_entropy =  (p_data_below * calculate_entropy(data_below) \n",
    "                      + p_data_above * calculate_entropy(data_above))\n",
    "    \n",
    "    return overall_entropy"
   ]
  },
  {
   "cell_type": "code",
   "execution_count": 37,
   "metadata": {},
   "outputs": [],
   "source": [
    "def determine_best_split(data, potential_splits):\n",
    "    \n",
    "    overall_entropy = 9999\n",
    "    for column_index in potential_splits:\n",
    "        for value in potential_splits[column_index]:\n",
    "            data_below, data_above = split_data(data, split_column=column_index, split_value=value)\n",
    "            current_overall_entropy = calculate_overall_entropy(data_below, data_above)\n",
    "\n",
    "            if current_overall_entropy <= overall_entropy:\n",
    "                overall_entropy = current_overall_entropy\n",
    "                best_split_column = column_index\n",
    "                best_split_value = value\n",
    "    \n",
    "    return best_split_column, best_split_value"
   ]
  },
  {
   "cell_type": "markdown",
   "metadata": {},
   "source": [
    "# Decision Tree Algorithm"
   ]
  },
  {
   "cell_type": "markdown",
   "metadata": {},
   "source": [
    "### Determine Type of Feature"
   ]
  },
  {
   "cell_type": "code",
   "execution_count": 38,
   "metadata": {},
   "outputs": [],
   "source": [
    "def determine_type_of_feature(df):\n",
    "    \n",
    "    feature_types = []\n",
    "    n_unique_values_treshold = 15\n",
    "    for feature in df.columns:\n",
    "        if feature != \"label\":\n",
    "            unique_values = df[feature].unique()\n",
    "            example_value = unique_values[0]\n",
    "\n",
    "            if (isinstance(example_value, str)) or (len(unique_values) <= n_unique_values_treshold):\n",
    "                feature_types.append(\"categorical\")\n",
    "            else:\n",
    "                feature_types.append(\"continuous\")\n",
    "    \n",
    "    return feature_types"
   ]
  },
  {
   "cell_type": "markdown",
   "metadata": {},
   "source": [
    "### Algorithm"
   ]
  },
  {
   "cell_type": "code",
   "execution_count": 39,
   "metadata": {},
   "outputs": [],
   "source": [
    "def decision_tree_algorithm(df, counter=0, min_samples=2, max_depth=5):\n",
    "    \n",
    "    # data preparations\n",
    "    if counter == 0:\n",
    "        global COLUMN_HEADERS, FEATURE_TYPES\n",
    "        COLUMN_HEADERS = df.columns\n",
    "        FEATURE_TYPES = determine_type_of_feature(df)\n",
    "        data = df.values\n",
    "    else:\n",
    "        data = df           \n",
    "    \n",
    "    \n",
    "    # base cases\n",
    "    if (check_purity(data)) or (len(data) < min_samples) or (counter == max_depth):\n",
    "        classification = classify_data(data)\n",
    "        \n",
    "        return classification\n",
    "\n",
    "    \n",
    "    # recursive part\n",
    "    else:    \n",
    "        counter += 1\n",
    "\n",
    "        # helper functions \n",
    "        potential_splits = get_potential_splits(data)\n",
    "        split_column, split_value = determine_best_split(data, potential_splits)\n",
    "        data_below, data_above = split_data(data, split_column, split_value)\n",
    "        \n",
    "        # check for empty data\n",
    "        if len(data_below) == 0 or len(data_above) == 0:\n",
    "            classification = classify_data(data)\n",
    "            return classification\n",
    "        \n",
    "        # determine question\n",
    "        feature_name = COLUMN_HEADERS[split_column]\n",
    "        type_of_feature = FEATURE_TYPES[split_column]\n",
    "        if type_of_feature == \"continuous\":\n",
    "            question = \"{} <= {}\".format(feature_name, split_value)\n",
    "            \n",
    "        # feature is categorical\n",
    "        else:\n",
    "            question = \"{} = {}\".format(feature_name, split_value)\n",
    "        \n",
    "        # instantiate sub-tree\n",
    "        sub_tree = {question: []}\n",
    "        \n",
    "        # find answers (recursion)\n",
    "        yes_answer = decision_tree_algorithm(data_below, counter, min_samples, max_depth)\n",
    "        no_answer = decision_tree_algorithm(data_above, counter, min_samples, max_depth)\n",
    "        \n",
    "        # If the answers are the same, then there is no point in asking the qestion.\n",
    "        # This could happen when the data is classified even though it is not pure\n",
    "        # yet (min_samples or max_depth base case).\n",
    "        if yes_answer == no_answer:\n",
    "            sub_tree = yes_answer\n",
    "        else:\n",
    "            sub_tree[question].append(yes_answer)\n",
    "            sub_tree[question].append(no_answer)\n",
    "        \n",
    "        return sub_tree"
   ]
  },
  {
   "cell_type": "code",
   "execution_count": 40,
   "metadata": {},
   "outputs": [
    {
     "name": "stdout",
     "output_type": "stream",
     "text": [
      "{'reply = Y': ['nf',\n",
      "               {'thickness = thin': ['f', {'star_rating = >2': ['f', 'nf']}]}]}\n"
     ]
    }
   ],
   "source": [
    "tree = decision_tree_algorithm(train_df, max_depth=3)\n",
    "pprint(tree)"
   ]
  },
  {
   "cell_type": "markdown",
   "metadata": {},
   "source": [
    "# Classification"
   ]
  },
  {
   "cell_type": "raw",
   "metadata": {},
   "source": [
    "sub_tree = {question: [yes_answer, no_answer]}"
   ]
  },
  {
   "cell_type": "code",
   "execution_count": 41,
   "metadata": {},
   "outputs": [],
   "source": [
    "def classify_example(example, tree):\n",
    "    question = list(tree.keys())[0]\n",
    "    feature_name, comparison_operator, value = question.split(\" \")\n",
    "\n",
    "    # ask question\n",
    "    if comparison_operator == \"<=\":\n",
    "        if example[feature_name] <= float(value):\n",
    "            answer = tree[question][0]\n",
    "        else:\n",
    "            answer = tree[question][1]\n",
    "    \n",
    "    # feature is categorical\n",
    "    else:\n",
    "        if str(example[feature_name]) == value:\n",
    "            answer = tree[question][0]\n",
    "        else:\n",
    "            answer = tree[question][1]\n",
    "\n",
    "    # base case\n",
    "    if not isinstance(answer, dict):\n",
    "        return answer\n",
    "    \n",
    "    # recursive part\n",
    "    else:\n",
    "        residual_tree = answer\n",
    "        return classify_example(example, residual_tree)"
   ]
  },
  {
   "cell_type": "code",
   "execution_count": 42,
   "metadata": {},
   "outputs": [],
   "source": [
    "#classify_example(example, tree)"
   ]
  },
  {
   "cell_type": "markdown",
   "metadata": {},
   "source": [
    "# Calculate Accuracy"
   ]
  },
  {
   "cell_type": "code",
   "execution_count": 43,
   "metadata": {},
   "outputs": [],
   "source": [
    "def calculate_accuracy(df, tree):\n",
    "\n",
    "    df[\"classification\"] = df.apply(classify_example, args=(tree,), axis=1)\n",
    "    df[\"classification_correct\"] = df[\"classification\"] == df[\"label\"]\n",
    "    \n",
    "    accuracy = df[\"classification_correct\"].mean()\n",
    "    \n",
    "    return accuracy"
   ]
  },
  {
   "cell_type": "code",
   "execution_count": 44,
   "metadata": {},
   "outputs": [
    {
     "data": {
      "text/plain": [
       "0.9333333333333333"
      ]
     },
     "execution_count": 44,
     "metadata": {},
     "output_type": "execute_result"
    }
   ],
   "source": [
    "accuracy = calculate_accuracy(test_df, tree)\n",
    "accuracy"
   ]
  },
  {
   "cell_type": "code",
   "execution_count": 45,
   "metadata": {},
   "outputs": [
    {
     "data": {
      "text/html": [
       "<div>\n",
       "<style scoped>\n",
       "    .dataframe tbody tr th:only-of-type {\n",
       "        vertical-align: middle;\n",
       "    }\n",
       "\n",
       "    .dataframe tbody tr th {\n",
       "        vertical-align: top;\n",
       "    }\n",
       "\n",
       "    .dataframe thead th {\n",
       "        text-align: right;\n",
       "    }\n",
       "</style>\n",
       "<table border=\"1\" class=\"dataframe\">\n",
       "  <thead>\n",
       "    <tr style=\"text-align: right;\">\n",
       "      <th></th>\n",
       "      <th>response</th>\n",
       "      <th>reply</th>\n",
       "      <th>profile_useful</th>\n",
       "      <th>thickness</th>\n",
       "      <th>template</th>\n",
       "      <th>star_rating</th>\n",
       "      <th>verified</th>\n",
       "      <th>helpful_votes</th>\n",
       "      <th>label</th>\n",
       "      <th>classification</th>\n",
       "      <th>classification_correct</th>\n",
       "    </tr>\n",
       "  </thead>\n",
       "  <tbody>\n",
       "    <tr>\n",
       "      <th>24</th>\n",
       "      <td>Y</td>\n",
       "      <td>N</td>\n",
       "      <td>&lt;20%</td>\n",
       "      <td>thin</td>\n",
       "      <td>N</td>\n",
       "      <td>&lt;2</td>\n",
       "      <td>False</td>\n",
       "      <td>&gt;=50</td>\n",
       "      <td>f</td>\n",
       "      <td>f</td>\n",
       "      <td>True</td>\n",
       "    </tr>\n",
       "    <tr>\n",
       "      <th>26</th>\n",
       "      <td>N</td>\n",
       "      <td>N</td>\n",
       "      <td>&lt;20%</td>\n",
       "      <td>thin</td>\n",
       "      <td>Y</td>\n",
       "      <td>&lt;2</td>\n",
       "      <td>True</td>\n",
       "      <td>&gt;=50</td>\n",
       "      <td>f</td>\n",
       "      <td>f</td>\n",
       "      <td>True</td>\n",
       "    </tr>\n",
       "    <tr>\n",
       "      <th>2</th>\n",
       "      <td>Y</td>\n",
       "      <td>Y</td>\n",
       "      <td>&gt;=20%</td>\n",
       "      <td>thick</td>\n",
       "      <td>Y</td>\n",
       "      <td>&gt;=2</td>\n",
       "      <td>False</td>\n",
       "      <td>&gt;=50</td>\n",
       "      <td>nf</td>\n",
       "      <td>nf</td>\n",
       "      <td>True</td>\n",
       "    </tr>\n",
       "    <tr>\n",
       "      <th>16</th>\n",
       "      <td>N</td>\n",
       "      <td>N</td>\n",
       "      <td>&lt;20%</td>\n",
       "      <td>thin</td>\n",
       "      <td>N</td>\n",
       "      <td>&lt;2</td>\n",
       "      <td>True</td>\n",
       "      <td>&lt;50</td>\n",
       "      <td>f</td>\n",
       "      <td>f</td>\n",
       "      <td>True</td>\n",
       "    </tr>\n",
       "    <tr>\n",
       "      <th>32</th>\n",
       "      <td>Y</td>\n",
       "      <td>N</td>\n",
       "      <td>&gt;=20%</td>\n",
       "      <td>thin</td>\n",
       "      <td>Y</td>\n",
       "      <td>&lt;2</td>\n",
       "      <td>False</td>\n",
       "      <td>&lt;50</td>\n",
       "      <td>f</td>\n",
       "      <td>f</td>\n",
       "      <td>True</td>\n",
       "    </tr>\n",
       "    <tr>\n",
       "      <th>31</th>\n",
       "      <td>Y</td>\n",
       "      <td>Y</td>\n",
       "      <td>&gt;=20%</td>\n",
       "      <td>thin</td>\n",
       "      <td>N</td>\n",
       "      <td>&gt;=2</td>\n",
       "      <td>True</td>\n",
       "      <td>&gt;=50</td>\n",
       "      <td>nf</td>\n",
       "      <td>nf</td>\n",
       "      <td>True</td>\n",
       "    </tr>\n",
       "    <tr>\n",
       "      <th>25</th>\n",
       "      <td>Y</td>\n",
       "      <td>N</td>\n",
       "      <td>&lt;20%</td>\n",
       "      <td>thin</td>\n",
       "      <td>N</td>\n",
       "      <td>&gt;=2</td>\n",
       "      <td>True</td>\n",
       "      <td>&gt;=50</td>\n",
       "      <td>f</td>\n",
       "      <td>f</td>\n",
       "      <td>True</td>\n",
       "    </tr>\n",
       "    <tr>\n",
       "      <th>19</th>\n",
       "      <td>Y</td>\n",
       "      <td>Y</td>\n",
       "      <td>&lt;20%</td>\n",
       "      <td>thin</td>\n",
       "      <td>N</td>\n",
       "      <td>&lt;2</td>\n",
       "      <td>False</td>\n",
       "      <td>&lt;50</td>\n",
       "      <td>nf</td>\n",
       "      <td>nf</td>\n",
       "      <td>True</td>\n",
       "    </tr>\n",
       "    <tr>\n",
       "      <th>30</th>\n",
       "      <td>Y</td>\n",
       "      <td>Y</td>\n",
       "      <td>&lt;20%</td>\n",
       "      <td>thin</td>\n",
       "      <td>Y</td>\n",
       "      <td>&gt;=2</td>\n",
       "      <td>True</td>\n",
       "      <td>&lt;50</td>\n",
       "      <td>nf</td>\n",
       "      <td>nf</td>\n",
       "      <td>True</td>\n",
       "    </tr>\n",
       "    <tr>\n",
       "      <th>11</th>\n",
       "      <td>N</td>\n",
       "      <td>N</td>\n",
       "      <td>&gt;=20%</td>\n",
       "      <td>thick</td>\n",
       "      <td>Y</td>\n",
       "      <td>&lt;2</td>\n",
       "      <td>True</td>\n",
       "      <td>&lt;50</td>\n",
       "      <td>nf</td>\n",
       "      <td>nf</td>\n",
       "      <td>True</td>\n",
       "    </tr>\n",
       "    <tr>\n",
       "      <th>18</th>\n",
       "      <td>Y</td>\n",
       "      <td>Y</td>\n",
       "      <td>&lt;20%</td>\n",
       "      <td>thin</td>\n",
       "      <td>N</td>\n",
       "      <td>&gt;=2</td>\n",
       "      <td>False</td>\n",
       "      <td>&gt;=50</td>\n",
       "      <td>nf</td>\n",
       "      <td>nf</td>\n",
       "      <td>True</td>\n",
       "    </tr>\n",
       "    <tr>\n",
       "      <th>28</th>\n",
       "      <td>N</td>\n",
       "      <td>N</td>\n",
       "      <td>&gt;=20%</td>\n",
       "      <td>thin</td>\n",
       "      <td>N</td>\n",
       "      <td>&gt;=2</td>\n",
       "      <td>False</td>\n",
       "      <td>&lt;50</td>\n",
       "      <td>f</td>\n",
       "      <td>f</td>\n",
       "      <td>True</td>\n",
       "    </tr>\n",
       "    <tr>\n",
       "      <th>6</th>\n",
       "      <td>Y</td>\n",
       "      <td>N</td>\n",
       "      <td>&gt;=20%</td>\n",
       "      <td>thick</td>\n",
       "      <td>Y</td>\n",
       "      <td>&gt;=2</td>\n",
       "      <td>False</td>\n",
       "      <td>&lt;50</td>\n",
       "      <td>nf</td>\n",
       "      <td>nf</td>\n",
       "      <td>True</td>\n",
       "    </tr>\n",
       "    <tr>\n",
       "      <th>36</th>\n",
       "      <td>Y</td>\n",
       "      <td>N</td>\n",
       "      <td>&lt;20%</td>\n",
       "      <td>thick</td>\n",
       "      <td>N</td>\n",
       "      <td>&lt;2</td>\n",
       "      <td>False</td>\n",
       "      <td>&gt;=50</td>\n",
       "      <td>f</td>\n",
       "      <td>nf</td>\n",
       "      <td>False</td>\n",
       "    </tr>\n",
       "    <tr>\n",
       "      <th>4</th>\n",
       "      <td>Y</td>\n",
       "      <td>N</td>\n",
       "      <td>&gt;=20%</td>\n",
       "      <td>thick</td>\n",
       "      <td>N</td>\n",
       "      <td>&gt;=2</td>\n",
       "      <td>True</td>\n",
       "      <td>&lt;50</td>\n",
       "      <td>nf</td>\n",
       "      <td>nf</td>\n",
       "      <td>True</td>\n",
       "    </tr>\n",
       "  </tbody>\n",
       "</table>\n",
       "</div>"
      ],
      "text/plain": [
       "   response reply profile_useful thickness template star_rating  verified  \\\n",
       "24        Y     N           <20%      thin        N          <2     False   \n",
       "26        N     N           <20%      thin        Y          <2      True   \n",
       "2         Y     Y          >=20%     thick        Y         >=2     False   \n",
       "16        N     N           <20%      thin        N          <2      True   \n",
       "32        Y     N          >=20%      thin        Y          <2     False   \n",
       "31        Y     Y          >=20%      thin        N         >=2      True   \n",
       "25        Y     N           <20%      thin        N         >=2      True   \n",
       "19        Y     Y           <20%      thin        N          <2     False   \n",
       "30        Y     Y           <20%      thin        Y         >=2      True   \n",
       "11        N     N          >=20%     thick        Y          <2      True   \n",
       "18        Y     Y           <20%      thin        N         >=2     False   \n",
       "28        N     N          >=20%      thin        N         >=2     False   \n",
       "6         Y     N          >=20%     thick        Y         >=2     False   \n",
       "36        Y     N           <20%     thick        N          <2     False   \n",
       "4         Y     N          >=20%     thick        N         >=2      True   \n",
       "\n",
       "   helpful_votes label classification  classification_correct  \n",
       "24          >=50     f              f                    True  \n",
       "26          >=50     f              f                    True  \n",
       "2           >=50    nf             nf                    True  \n",
       "16           <50     f              f                    True  \n",
       "32           <50     f              f                    True  \n",
       "31          >=50    nf             nf                    True  \n",
       "25          >=50     f              f                    True  \n",
       "19           <50    nf             nf                    True  \n",
       "30           <50    nf             nf                    True  \n",
       "11           <50    nf             nf                    True  \n",
       "18          >=50    nf             nf                    True  \n",
       "28           <50     f              f                    True  \n",
       "6            <50    nf             nf                    True  \n",
       "36          >=50     f             nf                   False  \n",
       "4            <50    nf             nf                    True  "
      ]
     },
     "execution_count": 45,
     "metadata": {},
     "output_type": "execute_result"
    }
   ],
   "source": [
    "test_df"
   ]
  },
  {
   "cell_type": "markdown",
   "metadata": {},
   "source": [
    "### Decision Tree Algorithm"
   ]
  },
  {
   "cell_type": "code",
   "execution_count": 50,
   "metadata": {},
   "outputs": [
    {
     "name": "stdout",
     "output_type": "stream",
     "text": [
      "{'reply = Y': ['nf',\n",
      "               {'thickness = thin': ['f',\n",
      "                                     {'star_rating = >2': ['f',\n",
      "                                                           {'response = Y': [{'helpful_votes = >=50': ['nf',\n",
      "                                                                                                       'f']},\n",
      "                                                                             'nf']}]}]}]}\n"
     ]
    },
    {
     "data": {
      "text/plain": [
       "0.8"
      ]
     },
     "execution_count": 50,
     "metadata": {},
     "output_type": "execute_result"
    }
   ],
   "source": [
    "random.seed(0)\n",
    "train_df, test_df = train_test_split(df, 15)\n",
    "tree = decision_tree_algorithm(train_df, max_depth=5)\n",
    "accuracy = calculate_accuracy(test_df, tree)\n",
    "\n",
    "pprint(tree, width=50)\n",
    "accuracy"
   ]
  },
  {
   "cell_type": "code",
   "execution_count": 47,
   "metadata": {},
   "outputs": [
    {
     "data": {
      "text/html": [
       "<div>\n",
       "<style scoped>\n",
       "    .dataframe tbody tr th:only-of-type {\n",
       "        vertical-align: middle;\n",
       "    }\n",
       "\n",
       "    .dataframe tbody tr th {\n",
       "        vertical-align: top;\n",
       "    }\n",
       "\n",
       "    .dataframe thead th {\n",
       "        text-align: right;\n",
       "    }\n",
       "</style>\n",
       "<table border=\"1\" class=\"dataframe\">\n",
       "  <thead>\n",
       "    <tr style=\"text-align: right;\">\n",
       "      <th></th>\n",
       "      <th>response</th>\n",
       "      <th>reply</th>\n",
       "      <th>profile_useful</th>\n",
       "      <th>thickness</th>\n",
       "      <th>template</th>\n",
       "      <th>star_rating</th>\n",
       "      <th>verified</th>\n",
       "      <th>helpful_votes</th>\n",
       "      <th>label</th>\n",
       "      <th>classification</th>\n",
       "      <th>classification_correct</th>\n",
       "    </tr>\n",
       "  </thead>\n",
       "  <tbody>\n",
       "    <tr>\n",
       "      <th>24</th>\n",
       "      <td>Y</td>\n",
       "      <td>N</td>\n",
       "      <td>&lt;20%</td>\n",
       "      <td>thin</td>\n",
       "      <td>N</td>\n",
       "      <td>&lt;2</td>\n",
       "      <td>False</td>\n",
       "      <td>&gt;=50</td>\n",
       "      <td>f</td>\n",
       "      <td>f</td>\n",
       "      <td>True</td>\n",
       "    </tr>\n",
       "    <tr>\n",
       "      <th>26</th>\n",
       "      <td>N</td>\n",
       "      <td>N</td>\n",
       "      <td>&lt;20%</td>\n",
       "      <td>thin</td>\n",
       "      <td>Y</td>\n",
       "      <td>&lt;2</td>\n",
       "      <td>True</td>\n",
       "      <td>&gt;=50</td>\n",
       "      <td>f</td>\n",
       "      <td>f</td>\n",
       "      <td>True</td>\n",
       "    </tr>\n",
       "    <tr>\n",
       "      <th>2</th>\n",
       "      <td>Y</td>\n",
       "      <td>Y</td>\n",
       "      <td>&gt;=20%</td>\n",
       "      <td>thick</td>\n",
       "      <td>Y</td>\n",
       "      <td>&gt;=2</td>\n",
       "      <td>False</td>\n",
       "      <td>&gt;=50</td>\n",
       "      <td>nf</td>\n",
       "      <td>nf</td>\n",
       "      <td>True</td>\n",
       "    </tr>\n",
       "    <tr>\n",
       "      <th>16</th>\n",
       "      <td>N</td>\n",
       "      <td>N</td>\n",
       "      <td>&lt;20%</td>\n",
       "      <td>thin</td>\n",
       "      <td>N</td>\n",
       "      <td>&lt;2</td>\n",
       "      <td>True</td>\n",
       "      <td>&lt;50</td>\n",
       "      <td>f</td>\n",
       "      <td>f</td>\n",
       "      <td>True</td>\n",
       "    </tr>\n",
       "    <tr>\n",
       "      <th>32</th>\n",
       "      <td>Y</td>\n",
       "      <td>N</td>\n",
       "      <td>&gt;=20%</td>\n",
       "      <td>thin</td>\n",
       "      <td>Y</td>\n",
       "      <td>&lt;2</td>\n",
       "      <td>False</td>\n",
       "      <td>&lt;50</td>\n",
       "      <td>f</td>\n",
       "      <td>f</td>\n",
       "      <td>True</td>\n",
       "    </tr>\n",
       "    <tr>\n",
       "      <th>31</th>\n",
       "      <td>Y</td>\n",
       "      <td>Y</td>\n",
       "      <td>&gt;=20%</td>\n",
       "      <td>thin</td>\n",
       "      <td>N</td>\n",
       "      <td>&gt;=2</td>\n",
       "      <td>True</td>\n",
       "      <td>&gt;=50</td>\n",
       "      <td>nf</td>\n",
       "      <td>nf</td>\n",
       "      <td>True</td>\n",
       "    </tr>\n",
       "    <tr>\n",
       "      <th>25</th>\n",
       "      <td>Y</td>\n",
       "      <td>N</td>\n",
       "      <td>&lt;20%</td>\n",
       "      <td>thin</td>\n",
       "      <td>N</td>\n",
       "      <td>&gt;=2</td>\n",
       "      <td>True</td>\n",
       "      <td>&gt;=50</td>\n",
       "      <td>f</td>\n",
       "      <td>f</td>\n",
       "      <td>True</td>\n",
       "    </tr>\n",
       "    <tr>\n",
       "      <th>19</th>\n",
       "      <td>Y</td>\n",
       "      <td>Y</td>\n",
       "      <td>&lt;20%</td>\n",
       "      <td>thin</td>\n",
       "      <td>N</td>\n",
       "      <td>&lt;2</td>\n",
       "      <td>False</td>\n",
       "      <td>&lt;50</td>\n",
       "      <td>nf</td>\n",
       "      <td>nf</td>\n",
       "      <td>True</td>\n",
       "    </tr>\n",
       "    <tr>\n",
       "      <th>30</th>\n",
       "      <td>Y</td>\n",
       "      <td>Y</td>\n",
       "      <td>&lt;20%</td>\n",
       "      <td>thin</td>\n",
       "      <td>Y</td>\n",
       "      <td>&gt;=2</td>\n",
       "      <td>True</td>\n",
       "      <td>&lt;50</td>\n",
       "      <td>nf</td>\n",
       "      <td>nf</td>\n",
       "      <td>True</td>\n",
       "    </tr>\n",
       "    <tr>\n",
       "      <th>11</th>\n",
       "      <td>N</td>\n",
       "      <td>N</td>\n",
       "      <td>&gt;=20%</td>\n",
       "      <td>thick</td>\n",
       "      <td>Y</td>\n",
       "      <td>&lt;2</td>\n",
       "      <td>True</td>\n",
       "      <td>&lt;50</td>\n",
       "      <td>nf</td>\n",
       "      <td>nf</td>\n",
       "      <td>True</td>\n",
       "    </tr>\n",
       "    <tr>\n",
       "      <th>18</th>\n",
       "      <td>Y</td>\n",
       "      <td>Y</td>\n",
       "      <td>&lt;20%</td>\n",
       "      <td>thin</td>\n",
       "      <td>N</td>\n",
       "      <td>&gt;=2</td>\n",
       "      <td>False</td>\n",
       "      <td>&gt;=50</td>\n",
       "      <td>nf</td>\n",
       "      <td>nf</td>\n",
       "      <td>True</td>\n",
       "    </tr>\n",
       "    <tr>\n",
       "      <th>28</th>\n",
       "      <td>N</td>\n",
       "      <td>N</td>\n",
       "      <td>&gt;=20%</td>\n",
       "      <td>thin</td>\n",
       "      <td>N</td>\n",
       "      <td>&gt;=2</td>\n",
       "      <td>False</td>\n",
       "      <td>&lt;50</td>\n",
       "      <td>f</td>\n",
       "      <td>f</td>\n",
       "      <td>True</td>\n",
       "    </tr>\n",
       "    <tr>\n",
       "      <th>6</th>\n",
       "      <td>Y</td>\n",
       "      <td>N</td>\n",
       "      <td>&gt;=20%</td>\n",
       "      <td>thick</td>\n",
       "      <td>Y</td>\n",
       "      <td>&gt;=2</td>\n",
       "      <td>False</td>\n",
       "      <td>&lt;50</td>\n",
       "      <td>nf</td>\n",
       "      <td>f</td>\n",
       "      <td>False</td>\n",
       "    </tr>\n",
       "    <tr>\n",
       "      <th>36</th>\n",
       "      <td>Y</td>\n",
       "      <td>N</td>\n",
       "      <td>&lt;20%</td>\n",
       "      <td>thick</td>\n",
       "      <td>N</td>\n",
       "      <td>&lt;2</td>\n",
       "      <td>False</td>\n",
       "      <td>&gt;=50</td>\n",
       "      <td>f</td>\n",
       "      <td>nf</td>\n",
       "      <td>False</td>\n",
       "    </tr>\n",
       "    <tr>\n",
       "      <th>4</th>\n",
       "      <td>Y</td>\n",
       "      <td>N</td>\n",
       "      <td>&gt;=20%</td>\n",
       "      <td>thick</td>\n",
       "      <td>N</td>\n",
       "      <td>&gt;=2</td>\n",
       "      <td>True</td>\n",
       "      <td>&lt;50</td>\n",
       "      <td>nf</td>\n",
       "      <td>f</td>\n",
       "      <td>False</td>\n",
       "    </tr>\n",
       "  </tbody>\n",
       "</table>\n",
       "</div>"
      ],
      "text/plain": [
       "   response reply profile_useful thickness template star_rating  verified  \\\n",
       "24        Y     N           <20%      thin        N          <2     False   \n",
       "26        N     N           <20%      thin        Y          <2      True   \n",
       "2         Y     Y          >=20%     thick        Y         >=2     False   \n",
       "16        N     N           <20%      thin        N          <2      True   \n",
       "32        Y     N          >=20%      thin        Y          <2     False   \n",
       "31        Y     Y          >=20%      thin        N         >=2      True   \n",
       "25        Y     N           <20%      thin        N         >=2      True   \n",
       "19        Y     Y           <20%      thin        N          <2     False   \n",
       "30        Y     Y           <20%      thin        Y         >=2      True   \n",
       "11        N     N          >=20%     thick        Y          <2      True   \n",
       "18        Y     Y           <20%      thin        N         >=2     False   \n",
       "28        N     N          >=20%      thin        N         >=2     False   \n",
       "6         Y     N          >=20%     thick        Y         >=2     False   \n",
       "36        Y     N           <20%     thick        N          <2     False   \n",
       "4         Y     N          >=20%     thick        N         >=2      True   \n",
       "\n",
       "   helpful_votes label classification  classification_correct  \n",
       "24          >=50     f              f                    True  \n",
       "26          >=50     f              f                    True  \n",
       "2           >=50    nf             nf                    True  \n",
       "16           <50     f              f                    True  \n",
       "32           <50     f              f                    True  \n",
       "31          >=50    nf             nf                    True  \n",
       "25          >=50     f              f                    True  \n",
       "19           <50    nf             nf                    True  \n",
       "30           <50    nf             nf                    True  \n",
       "11           <50    nf             nf                    True  \n",
       "18          >=50    nf             nf                    True  \n",
       "28           <50     f              f                    True  \n",
       "6            <50    nf              f                   False  \n",
       "36          >=50     f             nf                   False  \n",
       "4            <50    nf              f                   False  "
      ]
     },
     "execution_count": 47,
     "metadata": {},
     "output_type": "execute_result"
    }
   ],
   "source": [
    "test_df"
   ]
  },
  {
   "cell_type": "markdown",
   "metadata": {},
   "source": [
    "# Titanic dataset"
   ]
  },
  {
   "cell_type": "code",
   "execution_count": 48,
   "metadata": {},
   "outputs": [],
   "source": [
    "df = pd.read_csv(r\"C:\\Users\\Himanshu\\Desktop\\My Things\\Decision-Tree-from-Scratch-master\\data\\Titanic.csv\")\n",
    "df[\"label\"] = df.Survived\n",
    "df = df.drop([\"PassengerId\", \"Survived\", \"Name\", \"Ticket\", \"Cabin\"], axis=1)\n",
    "\n",
    "# handling missing value\n",
    "median_age = df.Age.median()\n",
    "mode_embarked = df.Embarked.mode()[0]\n",
    "\n",
    "df = df.fillna({\"Age\": median_age, \"Embarked\": mode_embarked})"
   ]
  },
  {
   "cell_type": "code",
   "execution_count": 49,
   "metadata": {},
   "outputs": [
    {
     "name": "stdout",
     "output_type": "stream",
     "text": [
      "<class 'pandas.core.frame.DataFrame'>\n",
      "RangeIndex: 891 entries, 0 to 890\n",
      "Data columns (total 8 columns):\n",
      "Pclass      891 non-null int64\n",
      "Sex         891 non-null object\n",
      "Age         891 non-null float64\n",
      "SibSp       891 non-null int64\n",
      "Parch       891 non-null int64\n",
      "Fare        891 non-null float64\n",
      "Embarked    891 non-null object\n",
      "label       891 non-null int64\n",
      "dtypes: float64(2), int64(4), object(2)\n",
      "memory usage: 48.8+ KB\n"
     ]
    }
   ],
   "source": [
    "df.info()"
   ]
  },
  {
   "cell_type": "code",
   "execution_count": 50,
   "metadata": {},
   "outputs": [
    {
     "name": "stdout",
     "output_type": "stream",
     "text": [
      "{'Sex = male': [{'Fare <= 15.1': [{'Age <= 12.0': [1,\n",
      "                                                   0]},\n",
      "                                  {'Age <= 3.0': [{'Pclass = 3': [{'Fare <= 31.3875': [1,\n",
      "                                                                                       0]},\n",
      "                                                                  1]},\n",
      "                                                  {'Pclass = 2': [{'Age <= 8.0': [1,\n",
      "                                                                                  0]},\n",
      "                                                                  {'Fare <= 263.0': [0,\n",
      "                                                                                     1]}]}]}]},\n",
      "                {'Pclass = 3': [{'Fare <= 23.25': [{'Age <= 36.0': [1,\n",
      "                                                                    0]},\n",
      "                                                   {'Parch = 0': [1,\n",
      "                                                                  0]}]},\n",
      "                                {'Fare <= 28.7125': [{'Fare <= 27.75': [1,\n",
      "                                                                        0]},\n",
      "                                                     1]}]}]}\n",
      "0.8202247191011236\n"
     ]
    }
   ],
   "source": [
    "train_df, test_df = train_test_split(df, 0.2)\n",
    "tree = decision_tree_algorithm(train_df, max_depth=5)\n",
    "accuracy = calculate_accuracy(test_df, tree)\n",
    "\n",
    "pprint(tree, width=50)\n",
    "print(accuracy)"
   ]
  },
  {
   "cell_type": "code",
   "execution_count": 51,
   "metadata": {},
   "outputs": [
    {
     "name": "stdout",
     "output_type": "stream",
     "text": [
      "{'Sex = male': [{'Fare <= 15.1': [{'Age <= 12.0': [1,\n",
      "                                                   0]},\n",
      "                                  {'Age <= 3.0': [1,\n",
      "                                                  0]}]},\n",
      "                {'Pclass = 3': [{'Fare <= 23.25': [1,\n",
      "                                                   0]},\n",
      "                                1]}]}\n"
     ]
    }
   ],
   "source": [
    "tree = decision_tree_algorithm(train_df, max_depth=3)\n",
    "pprint(tree, width=50)"
   ]
  },
  {
   "cell_type": "code",
   "execution_count": 52,
   "metadata": {},
   "outputs": [
    {
     "data": {
      "text/plain": [
       "Pclass         3\n",
       "Sex         male\n",
       "Age           22\n",
       "SibSp          1\n",
       "Parch          0\n",
       "Fare        7.25\n",
       "Embarked       S\n",
       "label          0\n",
       "Name: 0, dtype: object"
      ]
     },
     "execution_count": 52,
     "metadata": {},
     "output_type": "execute_result"
    }
   ],
   "source": [
    "example = df.iloc[0]\n",
    "example"
   ]
  },
  {
   "cell_type": "code",
   "execution_count": 53,
   "metadata": {},
   "outputs": [
    {
     "data": {
      "text/plain": [
       "0"
      ]
     },
     "execution_count": 53,
     "metadata": {},
     "output_type": "execute_result"
    }
   ],
   "source": [
    "classify_example(example, tree)"
   ]
  },
  {
   "cell_type": "code",
   "execution_count": 58,
   "metadata": {},
   "outputs": [
    {
     "data": {
      "text/html": [
       "<div>\n",
       "<style scoped>\n",
       "    .dataframe tbody tr th:only-of-type {\n",
       "        vertical-align: middle;\n",
       "    }\n",
       "\n",
       "    .dataframe tbody tr th {\n",
       "        vertical-align: top;\n",
       "    }\n",
       "\n",
       "    .dataframe thead th {\n",
       "        text-align: right;\n",
       "    }\n",
       "</style>\n",
       "<table border=\"1\" class=\"dataframe\">\n",
       "  <thead>\n",
       "    <tr style=\"text-align: right;\">\n",
       "      <th></th>\n",
       "      <th>Pclass</th>\n",
       "      <th>Sex</th>\n",
       "      <th>Age</th>\n",
       "      <th>SibSp</th>\n",
       "      <th>Parch</th>\n",
       "      <th>Fare</th>\n",
       "      <th>Embarked</th>\n",
       "      <th>label</th>\n",
       "      <th>classification</th>\n",
       "      <th>classification_correct</th>\n",
       "    </tr>\n",
       "  </thead>\n",
       "  <tbody>\n",
       "    <tr>\n",
       "      <th>802</th>\n",
       "      <td>1</td>\n",
       "      <td>male</td>\n",
       "      <td>11.0</td>\n",
       "      <td>1</td>\n",
       "      <td>2</td>\n",
       "      <td>120.0000</td>\n",
       "      <td>S</td>\n",
       "      <td>1</td>\n",
       "      <td>0</td>\n",
       "      <td>False</td>\n",
       "    </tr>\n",
       "    <tr>\n",
       "      <th>849</th>\n",
       "      <td>1</td>\n",
       "      <td>female</td>\n",
       "      <td>28.0</td>\n",
       "      <td>1</td>\n",
       "      <td>0</td>\n",
       "      <td>89.1042</td>\n",
       "      <td>C</td>\n",
       "      <td>1</td>\n",
       "      <td>1</td>\n",
       "      <td>True</td>\n",
       "    </tr>\n",
       "    <tr>\n",
       "      <th>310</th>\n",
       "      <td>1</td>\n",
       "      <td>female</td>\n",
       "      <td>24.0</td>\n",
       "      <td>0</td>\n",
       "      <td>0</td>\n",
       "      <td>83.1583</td>\n",
       "      <td>C</td>\n",
       "      <td>1</td>\n",
       "      <td>1</td>\n",
       "      <td>True</td>\n",
       "    </tr>\n",
       "    <tr>\n",
       "      <th>488</th>\n",
       "      <td>3</td>\n",
       "      <td>male</td>\n",
       "      <td>30.0</td>\n",
       "      <td>0</td>\n",
       "      <td>0</td>\n",
       "      <td>8.0500</td>\n",
       "      <td>S</td>\n",
       "      <td>0</td>\n",
       "      <td>0</td>\n",
       "      <td>True</td>\n",
       "    </tr>\n",
       "    <tr>\n",
       "      <th>366</th>\n",
       "      <td>1</td>\n",
       "      <td>female</td>\n",
       "      <td>60.0</td>\n",
       "      <td>1</td>\n",
       "      <td>0</td>\n",
       "      <td>75.2500</td>\n",
       "      <td>C</td>\n",
       "      <td>1</td>\n",
       "      <td>1</td>\n",
       "      <td>True</td>\n",
       "    </tr>\n",
       "    <tr>\n",
       "      <th>...</th>\n",
       "      <td>...</td>\n",
       "      <td>...</td>\n",
       "      <td>...</td>\n",
       "      <td>...</td>\n",
       "      <td>...</td>\n",
       "      <td>...</td>\n",
       "      <td>...</td>\n",
       "      <td>...</td>\n",
       "      <td>...</td>\n",
       "      <td>...</td>\n",
       "    </tr>\n",
       "    <tr>\n",
       "      <th>800</th>\n",
       "      <td>2</td>\n",
       "      <td>male</td>\n",
       "      <td>34.0</td>\n",
       "      <td>0</td>\n",
       "      <td>0</td>\n",
       "      <td>13.0000</td>\n",
       "      <td>S</td>\n",
       "      <td>0</td>\n",
       "      <td>0</td>\n",
       "      <td>True</td>\n",
       "    </tr>\n",
       "    <tr>\n",
       "      <th>379</th>\n",
       "      <td>3</td>\n",
       "      <td>male</td>\n",
       "      <td>19.0</td>\n",
       "      <td>0</td>\n",
       "      <td>0</td>\n",
       "      <td>7.7750</td>\n",
       "      <td>S</td>\n",
       "      <td>0</td>\n",
       "      <td>0</td>\n",
       "      <td>True</td>\n",
       "    </tr>\n",
       "    <tr>\n",
       "      <th>753</th>\n",
       "      <td>3</td>\n",
       "      <td>male</td>\n",
       "      <td>23.0</td>\n",
       "      <td>0</td>\n",
       "      <td>0</td>\n",
       "      <td>7.8958</td>\n",
       "      <td>S</td>\n",
       "      <td>0</td>\n",
       "      <td>0</td>\n",
       "      <td>True</td>\n",
       "    </tr>\n",
       "    <tr>\n",
       "      <th>37</th>\n",
       "      <td>3</td>\n",
       "      <td>male</td>\n",
       "      <td>21.0</td>\n",
       "      <td>0</td>\n",
       "      <td>0</td>\n",
       "      <td>8.0500</td>\n",
       "      <td>S</td>\n",
       "      <td>0</td>\n",
       "      <td>0</td>\n",
       "      <td>True</td>\n",
       "    </tr>\n",
       "    <tr>\n",
       "      <th>721</th>\n",
       "      <td>3</td>\n",
       "      <td>male</td>\n",
       "      <td>17.0</td>\n",
       "      <td>1</td>\n",
       "      <td>0</td>\n",
       "      <td>7.0542</td>\n",
       "      <td>S</td>\n",
       "      <td>0</td>\n",
       "      <td>0</td>\n",
       "      <td>True</td>\n",
       "    </tr>\n",
       "  </tbody>\n",
       "</table>\n",
       "<p>178 rows × 10 columns</p>\n",
       "</div>"
      ],
      "text/plain": [
       "     Pclass     Sex   Age  SibSp  Parch      Fare Embarked  label  \\\n",
       "802       1    male  11.0      1      2  120.0000        S      1   \n",
       "849       1  female  28.0      1      0   89.1042        C      1   \n",
       "310       1  female  24.0      0      0   83.1583        C      1   \n",
       "488       3    male  30.0      0      0    8.0500        S      0   \n",
       "366       1  female  60.0      1      0   75.2500        C      1   \n",
       "..      ...     ...   ...    ...    ...       ...      ...    ...   \n",
       "800       2    male  34.0      0      0   13.0000        S      0   \n",
       "379       3    male  19.0      0      0    7.7750        S      0   \n",
       "753       3    male  23.0      0      0    7.8958        S      0   \n",
       "37        3    male  21.0      0      0    8.0500        S      0   \n",
       "721       3    male  17.0      1      0    7.0542        S      0   \n",
       "\n",
       "     classification  classification_correct  \n",
       "802               0                   False  \n",
       "849               1                    True  \n",
       "310               1                    True  \n",
       "488               0                    True  \n",
       "366               1                    True  \n",
       "..              ...                     ...  \n",
       "800               0                    True  \n",
       "379               0                    True  \n",
       "753               0                    True  \n",
       "37                0                    True  \n",
       "721               0                    True  \n",
       "\n",
       "[178 rows x 10 columns]"
      ]
     },
     "execution_count": 58,
     "metadata": {},
     "output_type": "execute_result"
    }
   ],
   "source": [
    "test_df"
   ]
  },
  {
   "cell_type": "code",
   "execution_count": 59,
   "metadata": {},
   "outputs": [
    {
     "name": "stdout",
     "output_type": "stream",
     "text": [
      "0.8202247191011236\n"
     ]
    }
   ],
   "source": [
    "print(accuracy)"
   ]
  },
  {
   "cell_type": "code",
   "execution_count": 55,
   "metadata": {},
   "outputs": [
    {
     "data": {
      "text/plain": [
       "(713, 8)"
      ]
     },
     "execution_count": 55,
     "metadata": {},
     "output_type": "execute_result"
    }
   ],
   "source": [
    "train_df.shape"
   ]
  },
  {
   "cell_type": "code",
   "execution_count": null,
   "metadata": {},
   "outputs": [],
   "source": []
  }
 ],
 "metadata": {
  "kernelspec": {
   "display_name": "Python 3",
   "language": "python",
   "name": "python3"
  },
  "language_info": {
   "codemirror_mode": {
    "name": "ipython",
    "version": 3
   },
   "file_extension": ".py",
   "mimetype": "text/x-python",
   "name": "python",
   "nbconvert_exporter": "python",
   "pygments_lexer": "ipython3",
   "version": "3.8.3"
  }
 },
 "nbformat": 4,
 "nbformat_minor": 4
}
