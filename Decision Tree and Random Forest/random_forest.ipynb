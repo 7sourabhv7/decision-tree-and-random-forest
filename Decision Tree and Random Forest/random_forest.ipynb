{
 "cells": [
  {
   "cell_type": "code",
   "execution_count": 2,
   "metadata": {},
   "outputs": [],
   "source": [
    "import numpy as np\n",
    "import pandas as pd\n",
    "%matplotlib inline\n",
    "\n",
    "import random\n",
    "from pprint import pprint\n",
    "\n",
    "from decision_tree_functions import decision_tree_algorithm, decision_tree_predictions\n",
    "from helper_functions import train_test_split, calculate_accuracy"
   ]
  },
  {
   "cell_type": "markdown",
   "metadata": {},
   "source": [
    "# Load and Prepare Data"
   ]
  },
  {
   "cell_type": "markdown",
   "metadata": {},
   "source": [
    "#### Format of the data\n",
    "- the last column of the data frame must contain the label and it must also be called \"label\"\n",
    "- there should be no missing values in the data frame"
   ]
  },
  {
   "cell_type": "code",
   "execution_count": 7,
   "metadata": {},
   "outputs": [
    {
     "data": {
      "text/html": [
       "<div>\n",
       "<style scoped>\n",
       "    .dataframe tbody tr th:only-of-type {\n",
       "        vertical-align: middle;\n",
       "    }\n",
       "\n",
       "    .dataframe tbody tr th {\n",
       "        vertical-align: top;\n",
       "    }\n",
       "\n",
       "    .dataframe thead th {\n",
       "        text-align: right;\n",
       "    }\n",
       "</style>\n",
       "<table border=\"1\" class=\"dataframe\">\n",
       "  <thead>\n",
       "    <tr style=\"text-align: right;\">\n",
       "      <th></th>\n",
       "      <th>response</th>\n",
       "      <th>reply</th>\n",
       "      <th>profile_useful</th>\n",
       "      <th>thickness</th>\n",
       "      <th>template</th>\n",
       "      <th>star_rating</th>\n",
       "      <th>verified</th>\n",
       "      <th>helpful_votes</th>\n",
       "      <th>label</th>\n",
       "    </tr>\n",
       "  </thead>\n",
       "  <tbody>\n",
       "    <tr>\n",
       "      <th>0</th>\n",
       "      <td>Y</td>\n",
       "      <td>Y</td>\n",
       "      <td>&gt;=20%</td>\n",
       "      <td>thick</td>\n",
       "      <td>N</td>\n",
       "      <td>&gt;=2</td>\n",
       "      <td>False</td>\n",
       "      <td>&gt;=50</td>\n",
       "      <td>nf</td>\n",
       "    </tr>\n",
       "    <tr>\n",
       "      <th>1</th>\n",
       "      <td>Y</td>\n",
       "      <td>Y</td>\n",
       "      <td>&gt;=20%</td>\n",
       "      <td>thick</td>\n",
       "      <td>N</td>\n",
       "      <td>&lt;2</td>\n",
       "      <td>True</td>\n",
       "      <td>&gt;=50</td>\n",
       "      <td>nf</td>\n",
       "    </tr>\n",
       "    <tr>\n",
       "      <th>2</th>\n",
       "      <td>Y</td>\n",
       "      <td>Y</td>\n",
       "      <td>&gt;=20%</td>\n",
       "      <td>thick</td>\n",
       "      <td>Y</td>\n",
       "      <td>&gt;=2</td>\n",
       "      <td>False</td>\n",
       "      <td>&gt;=50</td>\n",
       "      <td>nf</td>\n",
       "    </tr>\n",
       "    <tr>\n",
       "      <th>3</th>\n",
       "      <td>Y</td>\n",
       "      <td>Y</td>\n",
       "      <td>&gt;=20%</td>\n",
       "      <td>thick</td>\n",
       "      <td>Y</td>\n",
       "      <td>&lt;2</td>\n",
       "      <td>True</td>\n",
       "      <td>&lt;50</td>\n",
       "      <td>nf</td>\n",
       "    </tr>\n",
       "    <tr>\n",
       "      <th>4</th>\n",
       "      <td>Y</td>\n",
       "      <td>N</td>\n",
       "      <td>&gt;=20%</td>\n",
       "      <td>thick</td>\n",
       "      <td>N</td>\n",
       "      <td>&gt;=2</td>\n",
       "      <td>True</td>\n",
       "      <td>&lt;50</td>\n",
       "      <td>nf</td>\n",
       "    </tr>\n",
       "  </tbody>\n",
       "</table>\n",
       "</div>"
      ],
      "text/plain": [
       "  response reply profile_useful thickness template star_rating  verified  \\\n",
       "0        Y     Y          >=20%     thick        N         >=2     False   \n",
       "1        Y     Y          >=20%     thick        N          <2      True   \n",
       "2        Y     Y          >=20%     thick        Y         >=2     False   \n",
       "3        Y     Y          >=20%     thick        Y          <2      True   \n",
       "4        Y     N          >=20%     thick        N         >=2      True   \n",
       "\n",
       "  helpful_votes label  \n",
       "0          >=50    nf  \n",
       "1          >=50    nf  \n",
       "2          >=50    nf  \n",
       "3           <50    nf  \n",
       "4           <50    nf  "
      ]
     },
     "execution_count": 7,
     "metadata": {},
     "output_type": "execute_result"
    }
   ],
   "source": [
    "df = pd.read_csv(r\"C:\\Users\\Himanshu\\Desktop\\My Things\\Book3.csv\")\n",
    "df[\"label\"] = df.classify\n",
    "df = df.drop(\"classify\", axis=1)\n",
    "\n",
    "column_names = []\n",
    "for column in df.columns:\n",
    "    name = column.replace(\" \", \"_\")\n",
    "    column_names.append(name)\n",
    "df.columns = column_names\n",
    "\n",
    "df.head()"
   ]
  },
  {
   "cell_type": "code",
   "execution_count": 8,
   "metadata": {},
   "outputs": [
    {
     "data": {
      "text/plain": [
       "(40, 9)"
      ]
     },
     "execution_count": 8,
     "metadata": {},
     "output_type": "execute_result"
    }
   ],
   "source": [
    "df.shape"
   ]
  },
  {
   "cell_type": "code",
   "execution_count": 9,
   "metadata": {},
   "outputs": [
    {
     "data": {
      "text/plain": [
       "<matplotlib.axes._subplots.AxesSubplot at 0xb84ca70>"
      ]
     },
     "execution_count": 9,
     "metadata": {},
     "output_type": "execute_result"
    },
    {
     "data": {
      "image/png": "[encoded data removed]",
      "text/plain": [
       "<Figure size 432x288 with 1 Axes>"
      ]
     },
     "metadata": {
      "needs_background": "light"
     },
     "output_type": "display_data"
    }
   ],
   "source": [
    "reviews_genuinity = df.label.value_counts(normalize=True)\n",
    "reviews_genuinity = reviews_genuinity.sort_index()\n",
    "reviews_genuinity.plot(kind=\"bar\")"
   ]
  },
  {
   "cell_type": "code",
   "execution_count": 11,
   "metadata": {},
   "outputs": [
    {
     "data": {
      "text/plain": [
       "f     0.5\n",
       "nf    0.5\n",
       "Name: label, dtype: float64"
      ]
     },
     "execution_count": 11,
     "metadata": {},
     "output_type": "execute_result"
    },
    {
     "data": {
      "image/png": "[encoded data removed]",
      "text/plain": [
       "<Figure size 432x288 with 1 Axes>"
      ]
     },
     "metadata": {
      "needs_background": "light"
     },
     "output_type": "display_data"
    }
   ],
   "source": [
    "reviews_genuinity = df.label.value_counts(normalize=True)\n",
    "reviews_genuinity[[\"f\", \"nf\"]].plot(kind=\"bar\")\n",
    "reviews_genuinity"
   ]
  },
  {
   "cell_type": "code",
   "execution_count": 156,
   "metadata": {},
   "outputs": [],
   "source": [
    "random.seed(0)\n",
    "train_df, test_df = train_test_split(df, test_size=0.2)"
   ]
  },
  {
   "cell_type": "markdown",
   "metadata": {},
   "source": [
    "# Random Forest"
   ]
  },
  {
   "cell_type": "code",
   "execution_count": 157,
   "metadata": {},
   "outputs": [],
   "source": [
    "def bootstrapping(train_df, n_bootstrap):\n",
    "    bootstrap_indices = np.random.randint(low=0, high=len(train_df), size=n_bootstrap)\n",
    "    df_bootstrapped = train_df.iloc[bootstrap_indices]\n",
    "    \n",
    "    return df_bootstrapped\n",
    "\n",
    "def random_forest_algorithm(train_df, n_trees, n_bootstrap, n_features, dt_max_depth):\n",
    "    forest = []\n",
    "    for i in range(n_trees):\n",
    "        df_bootstrapped = bootstrapping(train_df, n_bootstrap)\n",
    "        tree = decision_tree_algorithm(df_bootstrapped, max_depth=dt_max_depth, random_subspace=n_features)\n",
    "        forest.append(tree)\n",
    "    \n",
    "    return forest\n",
    "\n",
    "def random_forest_predictions(test_df, forest):\n",
    "    df_predictions = {}\n",
    "    for i in range(len(forest)):\n",
    "        column_name = \"tree_{}\".format(i)\n",
    "        predictions = decision_tree_predictions(test_df, tree=forest[i])\n",
    "        df_predictions[column_name] = predictions\n",
    "\n",
    "    df_predictions = pd.DataFrame(df_predictions)\n",
    "    random_forest_predictions = df_predictions.mode(axis=1)[0]\n",
    "    \n",
    "    return random_forest_predictions"
   ]
  },
  {
   "cell_type": "code",
   "execution_count": 172,
   "metadata": {},
   "outputs": [
    {
     "name": "stdout",
     "output_type": "stream",
     "text": [
      "Accuracy = 1.0\n"
     ]
    }
   ],
   "source": [
    "forest = random_forest_algorithm(train_df, n_trees=4, n_bootstrap=36, n_features=2, dt_max_depth=4)\n",
    "predictions = random_forest_predictions(test_df, forest)\n",
    "accuracy = calculate_accuracy(predictions, test_df.label)\n",
    "\n",
    "print(\"Accuracy = {}\".format(accuracy))"
   ]
  },
  {
   "cell_type": "code",
   "execution_count": 173,
   "metadata": {},
   "outputs": [],
   "source": [
    "forest = random_forest_algorithm(train_df, n_trees=4, n_bootstrap=40, n_features=4, dt_max_depth=4)"
   ]
  },
  {
   "cell_type": "code",
   "execution_count": 174,
   "metadata": {},
   "outputs": [
    {
     "name": "stdout",
     "output_type": "stream",
     "text": [
      "{'helpful_votes = >=50': [{'reply = Y': ['nf',\n",
      "                                         {'profile_useful = >=20%': ['nf',\n",
      "                                                                     'f']}]},\n",
      "                          {'thickness = thin': [{'template = Y': [{'reply = Y': ['nf',\n",
      "                                                                                 'f']},\n",
      "                                                                  'f']},\n",
      "                                                {'verified = True': ['nf',\n",
      "                                                                     'f']}]}]}\n"
     ]
    }
   ],
   "source": [
    "pprint(forest[0])"
   ]
  },
  {
   "cell_type": "code",
   "execution_count": 175,
   "metadata": {},
   "outputs": [
    {
     "name": "stdout",
     "output_type": "stream",
     "text": [
      "{'star_rating = >=2': [{'profile_useful = >=20%': ['nf',\n",
      "                                                   {'response = Y': ['nf',\n",
      "                                                                     'f']}]},\n",
      "                       {'helpful_votes = >=50': [{'reply = Y': ['nf',\n",
      "                                                                {'profile_useful = >=20%': ['nf',\n",
      "                                                                                            'f']}]},\n",
      "                                                 'f']}]}\n"
     ]
    }
   ],
   "source": [
    "pprint(forest[1])"
   ]
  },
  {
   "cell_type": "code",
   "execution_count": 176,
   "metadata": {},
   "outputs": [
    {
     "name": "stdout",
     "output_type": "stream",
     "text": [
      "{'profile_useful = >=20%': [{'thickness = thin': ['f', 'nf']},\n",
      "                            {'helpful_votes = >=50': [{'reply = Y': ['nf',\n",
      "                                                                     'f']},\n",
      "                                                      {'template = Y': ['f',\n",
      "                                                                        {'star_rating = <2': ['nf',\n",
      "                                                                                              'f']}]}]}]}\n"
     ]
    }
   ],
   "source": [
    "pprint(forest[2])"
   ]
  },
  {
   "cell_type": "code",
   "execution_count": 177,
   "metadata": {},
   "outputs": [
    {
     "name": "stdout",
     "output_type": "stream",
     "text": [
      "{'reply = Y': ['nf',\n",
      "               {'star_rating = >2': ['f',\n",
      "                                     {'thickness = thin': ['f',\n",
      "                                                           {'verified = True': ['nf',\n",
      "                                                                                'f']}]}]}]}\n"
     ]
    }
   ],
   "source": [
    "pprint(forest[3])"
   ]
  },
  {
   "cell_type": "code",
   "execution_count": 180,
   "metadata": {},
   "outputs": [],
   "source": [
    "df_predictions = {}\n",
    "for i in range(len(forest)):\n",
    "    column_name = \"tree_{}\".format(i)\n",
    "    predictions = decision_tree_predictions(test_df, tree=forest[i])\n",
    "    df_predictions[column_name] = predictions\n",
    "\n",
    "df_predictions = pd.DataFrame(df_predictions)"
   ]
  },
  {
   "cell_type": "code",
   "execution_count": 178,
   "metadata": {},
   "outputs": [],
   "source": [
    "predictions = random_forest_predictions(test_df, forest)"
   ]
  },
  {
   "cell_type": "code",
   "execution_count": 181,
   "metadata": {},
   "outputs": [
    {
     "data": {
      "text/html": [
       "<div>\n",
       "<style scoped>\n",
       "    .dataframe tbody tr th:only-of-type {\n",
       "        vertical-align: middle;\n",
       "    }\n",
       "\n",
       "    .dataframe tbody tr th {\n",
       "        vertical-align: top;\n",
       "    }\n",
       "\n",
       "    .dataframe thead th {\n",
       "        text-align: right;\n",
       "    }\n",
       "</style>\n",
       "<table border=\"1\" class=\"dataframe\">\n",
       "  <thead>\n",
       "    <tr style=\"text-align: right;\">\n",
       "      <th></th>\n",
       "      <th>tree_0</th>\n",
       "      <th>tree_1</th>\n",
       "      <th>tree_2</th>\n",
       "      <th>tree_3</th>\n",
       "    </tr>\n",
       "  </thead>\n",
       "  <tbody>\n",
       "    <tr>\n",
       "      <th>24</th>\n",
       "      <td>f</td>\n",
       "      <td>f</td>\n",
       "      <td>f</td>\n",
       "      <td>f</td>\n",
       "    </tr>\n",
       "    <tr>\n",
       "      <th>26</th>\n",
       "      <td>f</td>\n",
       "      <td>f</td>\n",
       "      <td>f</td>\n",
       "      <td>f</td>\n",
       "    </tr>\n",
       "    <tr>\n",
       "      <th>2</th>\n",
       "      <td>nf</td>\n",
       "      <td>nf</td>\n",
       "      <td>nf</td>\n",
       "      <td>nf</td>\n",
       "    </tr>\n",
       "    <tr>\n",
       "      <th>16</th>\n",
       "      <td>f</td>\n",
       "      <td>f</td>\n",
       "      <td>nf</td>\n",
       "      <td>f</td>\n",
       "    </tr>\n",
       "    <tr>\n",
       "      <th>32</th>\n",
       "      <td>f</td>\n",
       "      <td>f</td>\n",
       "      <td>f</td>\n",
       "      <td>f</td>\n",
       "    </tr>\n",
       "    <tr>\n",
       "      <th>31</th>\n",
       "      <td>nf</td>\n",
       "      <td>nf</td>\n",
       "      <td>f</td>\n",
       "      <td>nf</td>\n",
       "    </tr>\n",
       "    <tr>\n",
       "      <th>25</th>\n",
       "      <td>f</td>\n",
       "      <td>nf</td>\n",
       "      <td>f</td>\n",
       "      <td>f</td>\n",
       "    </tr>\n",
       "    <tr>\n",
       "      <th>19</th>\n",
       "      <td>f</td>\n",
       "      <td>f</td>\n",
       "      <td>nf</td>\n",
       "      <td>nf</td>\n",
       "    </tr>\n",
       "  </tbody>\n",
       "</table>\n",
       "</div>"
      ],
      "text/plain": [
       "   tree_0 tree_1 tree_2 tree_3\n",
       "24      f      f      f      f\n",
       "26      f      f      f      f\n",
       "2      nf     nf     nf     nf\n",
       "16      f      f     nf      f\n",
       "32      f      f      f      f\n",
       "31     nf     nf      f     nf\n",
       "25      f     nf      f      f\n",
       "19      f      f     nf     nf"
      ]
     },
     "execution_count": 181,
     "metadata": {},
     "output_type": "execute_result"
    }
   ],
   "source": [
    "df_predictions.head(8)"
   ]
  },
  {
   "cell_type": "code",
   "execution_count": 179,
   "metadata": {},
   "outputs": [
    {
     "data": {
      "text/plain": [
       "24     f\n",
       "26     f\n",
       "2     nf\n",
       "16     f\n",
       "32     f\n",
       "31    nf\n",
       "25     f\n",
       "19     f\n",
       "Name: 0, dtype: object"
      ]
     },
     "execution_count": 179,
     "metadata": {},
     "output_type": "execute_result"
    }
   ],
   "source": [
    "predictions"
   ]
  },
  {
   "cell_type": "code",
   "execution_count": null,
   "metadata": {},
   "outputs": [],
   "source": []
  },
  {
   "cell_type": "code",
   "execution_count": null,
   "metadata": {},
   "outputs": [],
   "source": []
  }
 ],
 "metadata": {
  "kernelspec": {
   "display_name": "Python 3",
   "language": "python",
   "name": "python3"
  },
  "language_info": {
   "codemirror_mode": {
    "name": "ipython",
    "version": 3
   },
   "file_extension": ".py",
   "mimetype": "text/x-python",
   "name": "python",
   "nbconvert_exporter": "python",
   "pygments_lexer": "ipython3",
   "version": "3.8.3"
  }
 },
 "nbformat": 4,
 "nbformat_minor": 4
}
